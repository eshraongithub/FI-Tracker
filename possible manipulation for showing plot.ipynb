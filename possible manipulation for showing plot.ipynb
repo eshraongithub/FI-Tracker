{
 "cells": [
  {
   "cell_type": "code",
   "execution_count": 1,
   "id": "79d167bb",
   "metadata": {},
   "outputs": [],
   "source": [
    "import pandas as pd"
   ]
  },
  {
   "cell_type": "code",
   "execution_count": 2,
   "id": "30a50b1e",
   "metadata": {},
   "outputs": [
    {
     "name": "stdout",
     "output_type": "stream",
     "text": [
      "<class 'pandas.core.frame.DataFrame'>\n",
      "RangeIndex: 14 entries, 0 to 13\n",
      "Data columns (total 3 columns):\n",
      " #   Column   Non-Null Count  Dtype         \n",
      "---  ------   --------------  -----         \n",
      " 0   date     14 non-null     datetime64[ns]\n",
      " 1   account  14 non-null     object        \n",
      " 2   value    14 non-null     int64         \n",
      "dtypes: datetime64[ns](1), int64(1), object(1)\n",
      "memory usage: 464.0+ bytes\n"
     ]
    }
   ],
   "source": [
    "df = pd.read_excel('test.xlsx')\n",
    "df['date'] = pd.to_datetime(df['date'])\n",
    "df.info()"
   ]
  },
  {
   "cell_type": "code",
   "execution_count": 17,
   "id": "01620086",
   "metadata": {},
   "outputs": [
    {
     "data": {
      "text/html": [
       "<div>\n",
       "<style scoped>\n",
       "    .dataframe tbody tr th:only-of-type {\n",
       "        vertical-align: middle;\n",
       "    }\n",
       "\n",
       "    .dataframe tbody tr th {\n",
       "        vertical-align: top;\n",
       "    }\n",
       "\n",
       "    .dataframe thead th {\n",
       "        text-align: right;\n",
       "    }\n",
       "</style>\n",
       "<table border=\"1\" class=\"dataframe\">\n",
       "  <thead>\n",
       "    <tr style=\"text-align: right;\">\n",
       "      <th></th>\n",
       "      <th>date</th>\n",
       "      <th>account</th>\n",
       "      <th>value</th>\n",
       "    </tr>\n",
       "  </thead>\n",
       "  <tbody>\n",
       "    <tr>\n",
       "      <th>0</th>\n",
       "      <td>2022-06-06</td>\n",
       "      <td>Bonds account</td>\n",
       "      <td>155</td>\n",
       "    </tr>\n",
       "    <tr>\n",
       "      <th>1</th>\n",
       "      <td>2022-06-07</td>\n",
       "      <td>Bonds account</td>\n",
       "      <td>155</td>\n",
       "    </tr>\n",
       "    <tr>\n",
       "      <th>2</th>\n",
       "      <td>2022-06-08</td>\n",
       "      <td>Bonds account</td>\n",
       "      <td>200</td>\n",
       "    </tr>\n",
       "    <tr>\n",
       "      <th>3</th>\n",
       "      <td>2022-06-09</td>\n",
       "      <td>Bonds account</td>\n",
       "      <td>250</td>\n",
       "    </tr>\n",
       "    <tr>\n",
       "      <th>4</th>\n",
       "      <td>2022-06-18</td>\n",
       "      <td>Bonds account</td>\n",
       "      <td>300</td>\n",
       "    </tr>\n",
       "    <tr>\n",
       "      <th>5</th>\n",
       "      <td>2022-06-19</td>\n",
       "      <td>Bonds account</td>\n",
       "      <td>350</td>\n",
       "    </tr>\n",
       "    <tr>\n",
       "      <th>6</th>\n",
       "      <td>2022-06-17</td>\n",
       "      <td>Dubai bank</td>\n",
       "      <td>4000</td>\n",
       "    </tr>\n",
       "    <tr>\n",
       "      <th>7</th>\n",
       "      <td>2022-06-13</td>\n",
       "      <td>checking</td>\n",
       "      <td>200</td>\n",
       "    </tr>\n",
       "    <tr>\n",
       "      <th>8</th>\n",
       "      <td>2022-06-14</td>\n",
       "      <td>checking</td>\n",
       "      <td>250</td>\n",
       "    </tr>\n",
       "    <tr>\n",
       "      <th>9</th>\n",
       "      <td>2022-06-15</td>\n",
       "      <td>checking</td>\n",
       "      <td>300</td>\n",
       "    </tr>\n",
       "    <tr>\n",
       "      <th>10</th>\n",
       "      <td>2022-06-16</td>\n",
       "      <td>checking</td>\n",
       "      <td>350</td>\n",
       "    </tr>\n",
       "    <tr>\n",
       "      <th>11</th>\n",
       "      <td>2022-06-17</td>\n",
       "      <td>checking</td>\n",
       "      <td>400</td>\n",
       "    </tr>\n",
       "    <tr>\n",
       "      <th>12</th>\n",
       "      <td>2022-06-18</td>\n",
       "      <td>checking</td>\n",
       "      <td>450</td>\n",
       "    </tr>\n",
       "    <tr>\n",
       "      <th>13</th>\n",
       "      <td>2022-06-19</td>\n",
       "      <td>checking</td>\n",
       "      <td>500</td>\n",
       "    </tr>\n",
       "  </tbody>\n",
       "</table>\n",
       "</div>"
      ],
      "text/plain": [
       "         date        account  value\n",
       "0  2022-06-06  Bonds account    155\n",
       "1  2022-06-07  Bonds account    155\n",
       "2  2022-06-08  Bonds account    200\n",
       "3  2022-06-09  Bonds account    250\n",
       "4  2022-06-18  Bonds account    300\n",
       "5  2022-06-19  Bonds account    350\n",
       "6  2022-06-17     Dubai bank   4000\n",
       "7  2022-06-13       checking    200\n",
       "8  2022-06-14       checking    250\n",
       "9  2022-06-15       checking    300\n",
       "10 2022-06-16       checking    350\n",
       "11 2022-06-17       checking    400\n",
       "12 2022-06-18       checking    450\n",
       "13 2022-06-19       checking    500"
      ]
     },
     "execution_count": 17,
     "metadata": {},
     "output_type": "execute_result"
    }
   ],
   "source": [
    "df"
   ]
  },
  {
   "cell_type": "code",
   "execution_count": 4,
   "id": "319ca15e",
   "metadata": {},
   "outputs": [],
   "source": [
    "periods=5    \n",
    "cutoff_date = df[\"date\"].iloc[-1] - pd.Timedelta(days=periods)\n",
    "\n",
    "last_5_transactions = df[df['date'] > cutoff_date]\n",
    "\n",
    "last_5_transactions_copy = last_5_transactions.copy()\n",
    "\n",
    "last_5_transactions_copy.loc[:, 'date'] = pd.to_datetime(last_5_transactions['date']).dt.date\n",
    "\n",
    "last_5_transactions_copy.set_index('date', inplace=True)\n",
    "\n",
    "last_5_transactions_pivot = last_5_transactions_copy.pivot_table('value', index='account', columns='date').reset_index()\n",
    "\n",
    "last_5_transactions_pivot.fillna(0, inplace=True)\n",
    "\n",
    "last_5_transactions_pivot= last_5_transactions_pivot.round(0)\n",
    "\n",
    "m=(last_5_transactions_pivot.dtypes=='float')\n",
    "\n",
    "#last_5_transactions_pivot_copy = df.loc[df.col1>2].copy()\n",
    "\n",
    "last_5_transactions_pivot.loc[:,m]=last_5_transactions_pivot.loc[:,m].astype(int)"
   ]
  },
  {
   "cell_type": "code",
   "execution_count": 6,
   "id": "7f3f4a9b",
   "metadata": {},
   "outputs": [],
   "source": [
    "#last_5_transactions_pivot = last_5_transactions_pivot.rename_axis('index')"
   ]
  },
  {
   "cell_type": "code",
   "execution_count": 7,
   "id": "6775ece0",
   "metadata": {},
   "outputs": [
    {
     "data": {
      "text/html": [
       "<div>\n",
       "<style scoped>\n",
       "    .dataframe tbody tr th:only-of-type {\n",
       "        vertical-align: middle;\n",
       "    }\n",
       "\n",
       "    .dataframe tbody tr th {\n",
       "        vertical-align: top;\n",
       "    }\n",
       "\n",
       "    .dataframe thead th {\n",
       "        text-align: right;\n",
       "    }\n",
       "</style>\n",
       "<table border=\"1\" class=\"dataframe\">\n",
       "  <thead>\n",
       "    <tr style=\"text-align: right;\">\n",
       "      <th>date</th>\n",
       "      <th>account</th>\n",
       "      <th>2022-06-15</th>\n",
       "      <th>2022-06-16</th>\n",
       "      <th>2022-06-17</th>\n",
       "      <th>2022-06-18</th>\n",
       "      <th>2022-06-19</th>\n",
       "    </tr>\n",
       "  </thead>\n",
       "  <tbody>\n",
       "    <tr>\n",
       "      <th>0</th>\n",
       "      <td>Bonds account</td>\n",
       "      <td>0</td>\n",
       "      <td>0</td>\n",
       "      <td>0</td>\n",
       "      <td>300</td>\n",
       "      <td>350</td>\n",
       "    </tr>\n",
       "    <tr>\n",
       "      <th>1</th>\n",
       "      <td>Dubai bank</td>\n",
       "      <td>0</td>\n",
       "      <td>0</td>\n",
       "      <td>4000</td>\n",
       "      <td>0</td>\n",
       "      <td>0</td>\n",
       "    </tr>\n",
       "    <tr>\n",
       "      <th>2</th>\n",
       "      <td>checking</td>\n",
       "      <td>300</td>\n",
       "      <td>350</td>\n",
       "      <td>400</td>\n",
       "      <td>450</td>\n",
       "      <td>500</td>\n",
       "    </tr>\n",
       "  </tbody>\n",
       "</table>\n",
       "</div>"
      ],
      "text/plain": [
       "date        account  2022-06-15  2022-06-16  2022-06-17  2022-06-18  \\\n",
       "0     Bonds account           0           0           0         300   \n",
       "1        Dubai bank           0           0        4000           0   \n",
       "2          checking         300         350         400         450   \n",
       "\n",
       "date  2022-06-19  \n",
       "0            350  \n",
       "1              0  \n",
       "2            500  "
      ]
     },
     "execution_count": 7,
     "metadata": {},
     "output_type": "execute_result"
    }
   ],
   "source": [
    "last_5_transactions_pivot"
   ]
  },
  {
   "cell_type": "code",
   "execution_count": 9,
   "id": "9b53cef4",
   "metadata": {},
   "outputs": [
    {
     "data": {
      "text/plain": [
       "0      0\n",
       "1      0\n",
       "2    300\n",
       "Name: 2022-06-15, dtype: int32"
      ]
     },
     "execution_count": 9,
     "metadata": {},
     "output_type": "execute_result"
    }
   ],
   "source": [
    "column_1= last_5_transactions_pivot.iloc[:, 1]\n",
    "column_1"
   ]
  },
  {
   "cell_type": "code",
   "execution_count": 16,
   "id": "681f99ec",
   "metadata": {},
   "outputs": [
    {
     "data": {
      "text/plain": [
       "0    Bonds account\n",
       "1       Dubai bank\n",
       "2         checking\n",
       "Name: account, dtype: object"
      ]
     },
     "execution_count": 16,
     "metadata": {},
     "output_type": "execute_result"
    }
   ],
   "source": [
    "last_5_transactions_pivot.account"
   ]
  },
  {
   "cell_type": "code",
   "execution_count": null,
   "id": "92d065fd",
   "metadata": {},
   "outputs": [],
   "source": []
  }
 ],
 "metadata": {
  "kernelspec": {
   "display_name": "Python 3 (ipykernel)",
   "language": "python",
   "name": "python3"
  },
  "language_info": {
   "codemirror_mode": {
    "name": "ipython",
    "version": 3
   },
   "file_extension": ".py",
   "mimetype": "text/x-python",
   "name": "python",
   "nbconvert_exporter": "python",
   "pygments_lexer": "ipython3",
   "version": "3.9.12"
  }
 },
 "nbformat": 4,
 "nbformat_minor": 5
}
